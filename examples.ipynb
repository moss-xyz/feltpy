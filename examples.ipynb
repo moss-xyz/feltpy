{
 "cells": [
  {
   "cell_type": "markdown",
   "metadata": {},
   "source": [
    "## **Documentation and Examples for feltpy**\n",
    "\n",
    "This notebook will walk through a series of examples for using feltpy to interact with [Felt.com's API](https://feltmaps.notion.site/Getting-Started-With-The-Felt-API-69c8b02b7d8e436daa657a04a2dbaffa).\n",
    "\n",
    "If you have not already done so, follow [these steps](https://feltmaps.notion.site/Getting-Started-With-The-Felt-API-69c8b02b7d8e436daa657a04a2dbaffa#e36ba27eda4c43dbb525344273e637a5) for acquiring a _Personal Access Token_."
   ]
  },
  {
   "cell_type": "code",
   "execution_count": null,
   "metadata": {},
   "outputs": [],
   "source": [
    "# Once your token is acquired, save it here:\n",
    "felt_pat = \"felt_pat_random_string_of_letters\""
   ]
  },
  {
   "cell_type": "code",
   "execution_count": null,
   "metadata": {},
   "outputs": [],
   "source": [
    "# next, import the feltpy package\n",
    "import feltpy"
   ]
  },
  {
   "cell_type": "code",
   "execution_count": null,
   "metadata": {},
   "outputs": [],
   "source": [
    "# This creates a User object based on the PAT\n",
    "me = feltpy.getUserInfo(felt_pat)\n",
    "# Each User object has properties for type, id, name, and email\n",
    "me.email"
   ]
  },
  {
   "cell_type": "code",
   "execution_count": null,
   "metadata": {},
   "outputs": [],
   "source": [
    "# This creates a Map object based on a PAT and the ID of the Map\n",
    "map_id = \"map_id_string\"\n",
    "map = feltpy.getMapInfo(felt_pat, map_id)\n",
    "# Each Map has properties for id, title, and url\n",
    "map.title"
   ]
  },
  {
   "cell_type": "code",
   "execution_count": null,
   "metadata": {},
   "outputs": [],
   "source": [
    "# There are functions that can also retrieve data from a map, such as Elements, Comments, and (Data) Layers\n",
    "# These functions can be called directly, like so\n",
    "map_layers = feltpy.getLayers(felt_pat, map_id) # using a static map_id variable\n",
    "map_layers = feltpy.getLayers(felt_pat, map.id) # using the id property of the map object\n",
    "# They can also be called as a method for a map object\n",
    "map_layers = map.getMapLayers(felt_pat) # notice how the ID of the map is no longer required!\n",
    "\n",
    "# This function specifically creates a LayerCollection object, which is an array-like object for holding layers present on a map\n",
    "# Each LayerCollection has properties for map_id, layer_names, layer_ids, and layer_types\n",
    "# A list of Layer objects can also be accessed directly using _layers\n",
    "map_layers.layer_names"
   ]
  },
  {
   "cell_type": "code",
   "execution_count": null,
   "metadata": {},
   "outputs": [],
   "source": [
    "# The Layer object itself only contains metadata, not the actual data behind the layer!\n",
    "layer_id = map_layers.layer_ids[0]\n",
    "layer = feltpy.getLayer(felt_pat, map_id, layer_id)\n",
    "# A Layer can also be retreived from the LayerCollection\n",
    "layer = map_layers.getLayer(layer_id)\n",
    "\n",
    "# A Layer object has properties for type, id, name, status, map_id, and datasets\n",
    "# Important to note: the datasetes property still does not contain the actual data behind the layer!\n",
    "layer.name"
   ]
  },
  {
   "cell_type": "code",
   "execution_count": null,
   "metadata": {},
   "outputs": [],
   "source": [
    "# Data can also be uploaded to a map as well\n",
    "\n",
    "# First, a new map might be created\n",
    "map_new = feltpy.postMap(felt_pat, \"Example Map\", lat=33.76, lon=-84.39, zoom=12)\n",
    "\n",
    "# The data can be stored as a path...\n",
    "path_to_file = \"/example/path/to/file.geojson\"\n",
    "feltpy.postLayer(felt_pat, map_new.id, path_to_file, name=\"Layer Name\")\n",
    "\n",
    "# Or it can be a GeoDataFrame\n",
    "import geopandas \n",
    "gdf = geopandas.read_file(path_to_file)\n",
    "feltpy.postLayer(felt_pat, map_new.id, gdf, name=\"Layer Name\")"
   ]
  }
 ],
 "metadata": {
  "kernelspec": {
   "display_name": "Python 3",
   "language": "python",
   "name": "python3"
  },
  "language_info": {
   "codemirror_mode": {
    "name": "ipython",
    "version": 3
   },
   "file_extension": ".py",
   "mimetype": "text/x-python",
   "name": "python",
   "nbconvert_exporter": "python",
   "pygments_lexer": "ipython3",
   "version": "3.10.5"
  }
 },
 "nbformat": 4,
 "nbformat_minor": 2
}
